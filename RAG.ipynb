{
 "cells": [
  {
   "cell_type": "code",
   "execution_count": 10,
   "metadata": {},
   "outputs": [
    {
     "data": {
      "text/plain": [
       "True"
      ]
     },
     "execution_count": 10,
     "metadata": {},
     "output_type": "execute_result"
    }
   ],
   "source": [
    "from llama_index.core import (\n",
    "    SimpleDirectoryReader,\n",
    "    load_index_from_storage,\n",
    "    VectorStoreIndex,\n",
    "    StorageContext,\n",
    "    ServiceContext,\n",
    ")\n",
    "from llama_index.embeddings.gemini import GeminiEmbedding\n",
    "from llama_index.llms.groq import Groq \n",
    "from llama_index.core.node_parser import SemanticSplitterNodeParser\n",
    "from llama_index.postprocessor.cohere_rerank import CohereRerank\n",
    "import os\n",
    "from dotenv import load_dotenv\n",
    "load_dotenv()"
   ]
  },
  {
   "cell_type": "code",
   "execution_count": 4,
   "metadata": {},
   "outputs": [],
   "source": [
    "GOOGLE_API_KEY = os.getenv(\"GEMINI_API_KEY\")\n",
    "GROQ_API_KEY = os.getenv(\"GROQ_API_KEY\")\n",
    "COHERE_API_KEY = os.getenv(\"COHERE_API_KEY\")"
   ]
  },
  {
   "cell_type": "code",
   "execution_count": 5,
   "metadata": {},
   "outputs": [],
   "source": [
    "reader = SimpleDirectoryReader(\"data\")\n",
    "documents = reader.load_data()"
   ]
  },
  {
   "cell_type": "code",
   "execution_count": 13,
   "metadata": {},
   "outputs": [
    {
     "name": "stderr",
     "output_type": "stream",
     "text": [
      "Generating embeddings: 100%|██████████| 1/1 [00:02<00:00,  2.54s/it]\n",
      "Generating embeddings: 100%|██████████| 21/21 [00:30<00:00,  1.45s/it]\n",
      "Generating embeddings: 100%|██████████| 31/31 [00:27<00:00,  1.13it/s]\n",
      "Generating embeddings: 100%|██████████| 22/22 [00:18<00:00,  1.18it/s]\n",
      "Generating embeddings: 100%|██████████| 22/22 [00:15<00:00,  1.45it/s]\n",
      "Generating embeddings: 100%|██████████| 24/24 [00:16<00:00,  1.44it/s]\n",
      "Generating embeddings: 100%|██████████| 16/16 [00:12<00:00,  1.25it/s]\n",
      "Generating embeddings: 100%|██████████| 28/28 [00:21<00:00,  1.33it/s]\n",
      "Generating embeddings: 100%|██████████| 4/4 [00:02<00:00,  1.41it/s]\n",
      "Generating embeddings: 100%|██████████| 18/18 [00:13<00:00,  1.31it/s]\n",
      "Generating embeddings: 100%|██████████| 18/18 [00:16<00:00,  1.08it/s]\n",
      "Generating embeddings: 100%|██████████| 20/20 [00:14<00:00,  1.41it/s]\n",
      "Generating embeddings: 100%|██████████| 13/13 [00:16<00:00,  1.29s/it]\n",
      "Generating embeddings: 100%|██████████| 14/14 [00:14<00:00,  1.00s/it]\n",
      "Generating embeddings: 100%|██████████| 21/21 [00:23<00:00,  1.10s/it]\n",
      "Generating embeddings: 100%|██████████| 16/16 [00:23<00:00,  1.44s/it]\n",
      "Generating embeddings: 100%|██████████| 11/11 [00:10<00:00,  1.03it/s]\n",
      "Generating embeddings: 100%|██████████| 8/8 [00:07<00:00,  1.05it/s]\n",
      "Generating embeddings: 100%|██████████| 26/26 [00:25<00:00,  1.02it/s]\n",
      "Generating embeddings: 100%|██████████| 28/28 [00:28<00:00,  1.00s/it]\n",
      "Generating embeddings: 100%|██████████| 9/9 [00:07<00:00,  1.28it/s]\n",
      "Generating embeddings: 100%|██████████| 21/21 [00:19<00:00,  1.10it/s]\n",
      "Generating embeddings: 100%|██████████| 11/11 [00:11<00:00,  1.02s/it]\n",
      "Generating embeddings: 100%|██████████| 31/31 [00:32<00:00,  1.05s/it]\n",
      "Generating embeddings: 100%|██████████| 15/15 [00:14<00:00,  1.04it/s]\n",
      "Generating embeddings: 100%|██████████| 14/14 [00:16<00:00,  1.19s/it]\n",
      "Generating embeddings: 100%|██████████| 14/14 [00:13<00:00,  1.03it/s]\n",
      "Generating embeddings: 100%|██████████| 19/19 [00:15<00:00,  1.20it/s]\n",
      "Generating embeddings: 100%|██████████| 12/12 [00:15<00:00,  1.27s/it]\n",
      "Generating embeddings: 100%|██████████| 23/23 [00:35<00:00,  1.53s/it]\n",
      "Generating embeddings: 100%|██████████| 17/17 [00:27<00:00,  1.62s/it]\n",
      "Generating embeddings: 100%|██████████| 11/11 [00:09<00:00,  1.11it/s]\n",
      "Generating embeddings: 100%|██████████| 12/12 [00:14<00:00,  1.24s/it]\n",
      "Generating embeddings: 100%|██████████| 20/20 [00:14<00:00,  1.37it/s]\n",
      "Generating embeddings: 100%|██████████| 20/20 [00:17<00:00,  1.16it/s]\n",
      "Generating embeddings: 100%|██████████| 20/20 [00:18<00:00,  1.11it/s]\n",
      "Generating embeddings: 100%|██████████| 13/13 [00:14<00:00,  1.13s/it]\n",
      "Generating embeddings: 100%|██████████| 20/20 [00:18<00:00,  1.06it/s]\n",
      "Generating embeddings: 100%|██████████| 10/10 [00:11<00:00,  1.10s/it]\n",
      "Generating embeddings: 100%|██████████| 3/3 [00:02<00:00,  1.17it/s]\n",
      "Generating embeddings: 100%|██████████| 19/19 [00:18<00:00,  1.03it/s]\n",
      "Generating embeddings: 100%|██████████| 23/23 [00:16<00:00,  1.42it/s]\n",
      "Generating embeddings: 100%|██████████| 7/7 [00:04<00:00,  1.66it/s]\n",
      "Generating embeddings: 100%|██████████| 23/23 [00:13<00:00,  1.71it/s]\n",
      "Generating embeddings: 100%|██████████| 15/15 [00:08<00:00,  1.67it/s]\n",
      "Generating embeddings: 100%|██████████| 18/18 [00:10<00:00,  1.79it/s]\n",
      "Generating embeddings: 100%|██████████| 15/15 [00:07<00:00,  1.88it/s]\n",
      "Generating embeddings: 100%|██████████| 25/25 [00:13<00:00,  1.82it/s]\n",
      "Generating embeddings: 100%|██████████| 26/26 [00:13<00:00,  1.93it/s]\n",
      "Generating embeddings: 100%|██████████| 27/27 [00:13<00:00,  2.07it/s]\n",
      "Generating embeddings: 100%|██████████| 2/2 [00:00<00:00,  2.12it/s]\n",
      "Generating embeddings: 100%|██████████| 17/17 [00:08<00:00,  1.95it/s]\n",
      "Generating embeddings: 100%|██████████| 22/22 [00:12<00:00,  1.82it/s]\n",
      "Generating embeddings: 100%|██████████| 24/24 [00:13<00:00,  1.77it/s]\n",
      "Generating embeddings: 100%|██████████| 20/20 [00:10<00:00,  1.89it/s]\n",
      "Generating embeddings: 100%|██████████| 15/15 [00:08<00:00,  1.87it/s]\n",
      "Generating embeddings: 100%|██████████| 8/8 [00:04<00:00,  1.86it/s]\n",
      "Generating embeddings: 100%|██████████| 6/6 [00:03<00:00,  1.89it/s]\n",
      "Generating embeddings: 100%|██████████| 19/19 [00:09<00:00,  2.05it/s]\n",
      "Generating embeddings: 100%|██████████| 24/24 [00:14<00:00,  1.67it/s]\n",
      "Generating embeddings: 100%|██████████| 24/24 [00:13<00:00,  1.83it/s]\n",
      "Generating embeddings: 100%|██████████| 21/21 [00:09<00:00,  2.17it/s]\n",
      "Generating embeddings: 100%|██████████| 30/30 [00:15<00:00,  1.89it/s]\n",
      "Generating embeddings: 100%|██████████| 2/2 [00:01<00:00,  1.50it/s]\n",
      "Generating embeddings: 100%|██████████| 26/26 [00:12<00:00,  2.08it/s]\n",
      "Generating embeddings: 100%|██████████| 23/23 [00:13<00:00,  1.66it/s]\n",
      "Generating embeddings: 100%|██████████| 24/24 [00:13<00:00,  1.82it/s]\n",
      "Generating embeddings: 100%|██████████| 16/16 [00:11<00:00,  1.39it/s]\n",
      "Generating embeddings: 100%|██████████| 7/7 [00:04<00:00,  1.41it/s]\n",
      "Generating embeddings: 100%|██████████| 16/16 [00:08<00:00,  1.86it/s]\n",
      "Generating embeddings: 100%|██████████| 3/3 [00:01<00:00,  2.23it/s]\n",
      "Generating embeddings: 100%|██████████| 18/18 [00:10<00:00,  1.67it/s]\n",
      "Generating embeddings: 100%|██████████| 19/19 [00:10<00:00,  1.78it/s]\n",
      "Generating embeddings: 100%|██████████| 3/3 [00:01<00:00,  2.15it/s]\n",
      "Generating embeddings: 100%|██████████| 27/27 [00:15<00:00,  1.76it/s]\n",
      "Generating embeddings: 100%|██████████| 20/20 [00:10<00:00,  1.83it/s]\n",
      "Generating embeddings: 100%|██████████| 17/17 [00:11<00:00,  1.53it/s]\n",
      "Generating embeddings: 100%|██████████| 25/25 [00:15<00:00,  1.63it/s]\n",
      "Generating embeddings: 100%|██████████| 21/21 [00:13<00:00,  1.55it/s]\n",
      "Generating embeddings: 100%|██████████| 13/13 [00:07<00:00,  1.74it/s]\n",
      "Generating embeddings: 100%|██████████| 16/16 [00:08<00:00,  1.79it/s]\n",
      "Generating embeddings: 100%|██████████| 20/20 [00:12<00:00,  1.62it/s]\n",
      "Generating embeddings: 100%|██████████| 20/20 [00:11<00:00,  1.70it/s]\n",
      "Generating embeddings: 100%|██████████| 20/20 [00:12<00:00,  1.63it/s]\n",
      "Generating embeddings: 100%|██████████| 24/24 [00:16<00:00,  1.48it/s]\n",
      "Generating embeddings: 100%|██████████| 19/19 [00:10<00:00,  1.76it/s]\n",
      "Generating embeddings: 100%|██████████| 22/22 [00:11<00:00,  1.84it/s]\n",
      "Generating embeddings: 100%|██████████| 17/17 [00:08<00:00,  1.97it/s]\n",
      "Generating embeddings: 100%|██████████| 12/12 [00:07<00:00,  1.69it/s]\n",
      "Generating embeddings: 100%|██████████| 17/17 [00:10<00:00,  1.56it/s]\n",
      "Generating embeddings: 100%|██████████| 25/25 [00:16<00:00,  1.51it/s]\n",
      "Generating embeddings: 100%|██████████| 6/6 [00:06<00:00,  1.09s/it]\n",
      "Generating embeddings: 100%|██████████| 25/25 [00:25<00:00,  1.00s/it]\n",
      "Generating embeddings: 100%|██████████| 24/24 [00:20<00:00,  1.14it/s]\n",
      "Generating embeddings: 100%|██████████| 25/25 [00:32<00:00,  1.30s/it]\n",
      "Generating embeddings: 100%|██████████| 10/10 [00:07<00:00,  1.42it/s]\n",
      "Generating embeddings: 100%|██████████| 14/14 [00:13<00:00,  1.07it/s]\n",
      "Generating embeddings: 100%|██████████| 25/25 [00:29<00:00,  1.19s/it]\n",
      "Generating embeddings: 100%|██████████| 24/24 [00:23<00:00,  1.01it/s]\n",
      "Generating embeddings: 100%|██████████| 26/26 [00:17<00:00,  1.50it/s]\n",
      "Generating embeddings: 100%|██████████| 28/28 [00:26<00:00,  1.05it/s]\n",
      "Generating embeddings: 100%|██████████| 31/31 [00:20<00:00,  1.50it/s]\n",
      "Generating embeddings: 100%|██████████| 22/22 [00:14<00:00,  1.57it/s]\n",
      "Generating embeddings: 100%|██████████| 17/17 [00:10<00:00,  1.56it/s]\n",
      "Generating embeddings: 100%|██████████| 11/11 [00:06<00:00,  1.73it/s]\n",
      "Generating embeddings: 100%|██████████| 15/15 [00:08<00:00,  1.83it/s]\n",
      "Generating embeddings: 100%|██████████| 5/5 [00:03<00:00,  1.57it/s]\n",
      "Generating embeddings: 100%|██████████| 19/19 [00:12<00:00,  1.54it/s]\n",
      "Generating embeddings: 100%|██████████| 5/5 [00:03<00:00,  1.48it/s]\n",
      "Generating embeddings: 100%|██████████| 30/30 [00:18<00:00,  1.65it/s]\n",
      "Generating embeddings: 100%|██████████| 29/29 [00:18<00:00,  1.58it/s]\n",
      "Generating embeddings: 100%|██████████| 9/9 [00:05<00:00,  1.71it/s]\n",
      "Generating embeddings: 100%|██████████| 9/9 [00:05<00:00,  1.76it/s]\n",
      "Generating embeddings: 100%|██████████| 9/9 [00:04<00:00,  1.94it/s]\n",
      "Generating embeddings: 100%|██████████| 12/12 [00:07<00:00,  1.51it/s]\n",
      "Generating embeddings: 100%|██████████| 5/5 [00:02<00:00,  1.72it/s]\n",
      "Generating embeddings: 100%|██████████| 17/17 [00:08<00:00,  1.95it/s]\n",
      "Generating embeddings: 100%|██████████| 14/14 [00:08<00:00,  1.58it/s]\n",
      "Generating embeddings: 100%|██████████| 18/18 [00:11<00:00,  1.61it/s]\n",
      "Generating embeddings: 100%|██████████| 18/18 [00:10<00:00,  1.76it/s]\n",
      "Generating embeddings: 100%|██████████| 12/12 [00:06<00:00,  1.83it/s]\n",
      "Generating embeddings: 100%|██████████| 16/16 [00:08<00:00,  1.85it/s]\n",
      "Generating embeddings: 100%|██████████| 16/16 [00:10<00:00,  1.48it/s]\n",
      "Generating embeddings: 100%|██████████| 29/29 [00:18<00:00,  1.58it/s]\n",
      "Generating embeddings: 100%|██████████| 15/15 [00:07<00:00,  1.98it/s]\n",
      "Generating embeddings: 100%|██████████| 26/26 [00:15<00:00,  1.64it/s]\n",
      "Generating embeddings: 100%|██████████| 16/16 [00:08<00:00,  1.84it/s]\n",
      "Generating embeddings: 100%|██████████| 23/23 [00:15<00:00,  1.53it/s]\n",
      "Generating embeddings: 100%|██████████| 29/29 [00:15<00:00,  1.92it/s]\n",
      "Generating embeddings: 100%|██████████| 16/16 [00:09<00:00,  1.62it/s]\n",
      "Generating embeddings: 100%|██████████| 7/7 [00:03<00:00,  1.79it/s]\n",
      "Generating embeddings: 100%|██████████| 22/22 [00:11<00:00,  1.99it/s]\n",
      "Generating embeddings: 100%|██████████| 20/20 [00:11<00:00,  1.67it/s]\n",
      "Generating embeddings: 100%|██████████| 23/23 [00:14<00:00,  1.60it/s]\n",
      "Generating embeddings: 100%|██████████| 9/9 [00:04<00:00,  2.01it/s]\n",
      "Parsing nodes: 100%|██████████| 135/135 [29:12<00:00, 12.98s/it]\n"
     ]
    }
   ],
   "source": [
    "embed_model = GeminiEmbedding(\n",
    "    model = 'models/embeddings-001', api_key = GOOGLE_API_KEY\n",
    ")\n",
    "splitter = SemanticSplitterNodeParser(\n",
    "    buffer_size=1, \n",
    "    breakpoint_percentile_threshold=95, \n",
    "    embed_model=embed_model\n",
    ")\n",
    "nodes = splitter.get_nodes_from_documents(documents, show_progress=True)"
   ]
  },
  {
   "cell_type": "code",
   "execution_count": 26,
   "metadata": {},
   "outputs": [],
   "source": [
    "llm = Groq(model=\"mixtral-8x7b-32768\", api_key=GROQ_API_KEY)\n"
   ]
  },
  {
   "cell_type": "code",
   "execution_count": 31,
   "metadata": {},
   "outputs": [
    {
     "name": "stderr",
     "output_type": "stream",
     "text": [
      "C:\\Users\\HP\\AppData\\Local\\Temp\\ipykernel_17500\\59880135.py:1: DeprecationWarning: Call to deprecated class method from_defaults. (ServiceContext is deprecated, please use `llama_index.settings.Settings` instead.) -- Deprecated since version 0.10.0.\n",
      "  service_context = ServiceContext.from_defaults(embed_model=embed_model, llm=llm)\n"
     ]
    }
   ],
   "source": [
    "service_context = ServiceContext.from_defaults(embed_model=embed_model, llm=llm)"
   ]
  },
  {
   "cell_type": "code",
   "execution_count": 32,
   "metadata": {},
   "outputs": [
    {
     "name": "stderr",
     "output_type": "stream",
     "text": [
      "Parsing nodes: 100%|██████████| 135/135 [00:00<00:00, 308.93it/s]\n",
      "Generating embeddings: 100%|██████████| 135/135 [01:18<00:00,  1.72it/s]\n"
     ]
    }
   ],
   "source": [
    "vector_index = VectorStoreIndex.from_documents(documents, show_progress=True, \n",
    "               service_context=service_context, node_parser=nodes)"
   ]
  },
  {
   "cell_type": "code",
   "execution_count": 33,
   "metadata": {},
   "outputs": [],
   "source": [
    "vector_index.storage_context.persist(persist_dir=\"./storage\")"
   ]
  },
  {
   "cell_type": "code",
   "execution_count": 34,
   "metadata": {},
   "outputs": [],
   "source": [
    "storage_context = StorageContext.from_defaults(persist_dir=\"./storage\")"
   ]
  },
  {
   "cell_type": "code",
   "execution_count": 35,
   "metadata": {},
   "outputs": [],
   "source": [
    "index = load_index_from_storage(storage_context, service_context=service_context)"
   ]
  },
  {
   "cell_type": "code",
   "execution_count": 36,
   "metadata": {},
   "outputs": [],
   "source": [
    "cohere_rerank = CohereRerank(api_key=COHERE_API_KEY, top_n=2)"
   ]
  },
  {
   "cell_type": "code",
   "execution_count": 37,
   "metadata": {},
   "outputs": [],
   "source": [
    "query_engine = index.as_query_engine(service_context=service_context,\n",
    "                similarity_top_k=10,\n",
    "                node_postprocessors=[cohere_rerank],)"
   ]
  },
  {
   "cell_type": "code",
   "execution_count": 41,
   "metadata": {},
   "outputs": [
    {
     "name": "stdout",
     "output_type": "stream",
     "text": [
      "Linear regression is a type of regression algorithm that creates a model which is a linear combination of the input example's features. The goal is to find the optimal parameter values for the model so that it makes the most accurate predictions. The model's output is a real number, and it is used to predict the unknown target value for a given input example.\n",
      "\n",
      "The model's form is similar to that of a Support Vector Machine (SVM) model, but instead of maximizing the distance between the hyperplane and the examples, the linear regression model's hyperplane is chosen to be as close to all training examples as possible. This is because the hyperplane is used to predict the value of the target for new, unlabeled input examples.\n",
      "\n",
      "The optimization procedure used to find the optimal parameter values tries to minimize the sum of the squared differences between the model's output and the true target value for each training example. This expression is called the objective function, and the squared difference is called the loss function. The loss function used in linear regression is called squared error loss. The average loss for a model is called the empirical risk, and it is the average of all penalties obtained by applying the model to the training data.\n"
     ]
    }
   ],
   "source": [
    "query = \"Explain simple linear regression?\"\n",
    "query = query_engine.query(query)\n",
    "print(query)"
   ]
  }
 ],
 "metadata": {
  "kernelspec": {
   "display_name": "Python 3",
   "language": "python",
   "name": "python3"
  },
  "language_info": {
   "codemirror_mode": {
    "name": "ipython",
    "version": 3
   },
   "file_extension": ".py",
   "mimetype": "text/x-python",
   "name": "python",
   "nbconvert_exporter": "python",
   "pygments_lexer": "ipython3",
   "version": "3.11.0"
  }
 },
 "nbformat": 4,
 "nbformat_minor": 2
}
